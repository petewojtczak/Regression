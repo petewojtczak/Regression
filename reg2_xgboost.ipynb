{
 "cells": [
  {
   "cell_type": "code",
   "execution_count": 1,
   "id": "1e056ae3",
   "metadata": {},
   "outputs": [
    {
     "data": {
      "application/javascript": [
       "IPython.notebook.set_autosave_interval(0)"
      ]
     },
     "metadata": {},
     "output_type": "display_data"
    },
    {
     "name": "stdout",
     "output_type": "stream",
     "text": [
      "Autosave disabled\n"
     ]
    }
   ],
   "source": [
    "%autosave 0"
   ]
  },
  {
   "cell_type": "markdown",
   "id": "a52716cb",
   "metadata": {},
   "source": [
    "#### In this work, same dataset has been considered as in 'reg1_sklearn.ipynb' as we seek if xgboost will outperform the best found estimator there. Please refer to 'reg1_sklearn.ipynb' the see the details of the dataset and rationale concerning the preprocessing phase. "
   ]
  },
  {
   "cell_type": "markdown",
   "id": "dd5ded35",
   "metadata": {},
   "source": [
    "### 0. Dependencies"
   ]
  },
  {
   "cell_type": "code",
   "execution_count": 30,
   "id": "13dc0f0f",
   "metadata": {},
   "outputs": [],
   "source": [
    "# linear algebra and data manipulation\n",
    "import numpy as np\n",
    "import pandas as pd\n",
    "\n",
    "# Model selection\n",
    "from sklearn.model_selection import train_test_split\n",
    "\n",
    "# Preprocessing\n",
    "from sklearn.compose import make_column_transformer\n",
    "from sklearn.preprocessing import OneHotEncoder\n",
    "from sklearn.preprocessing import StandardScaler\n",
    "\n",
    "# Dimensionality reduction\n",
    "from sklearn.decomposition import PCA\n",
    "\n",
    "# xgboost and hypertuning tool\n",
    "import xgboost\n",
    "from xgboost import XGBRegressor\n",
    "from sklearn.model_selection import GridSearchCV\n",
    "\n",
    "# Pipelining\n",
    "from sklearn.pipeline import make_pipeline\n",
    "\n",
    "# Metrics\n",
    "from sklearn.metrics import mean_absolute_error\n",
    "from sklearn.metrics import r2_score"
   ]
  },
  {
   "cell_type": "markdown",
   "id": "7c96cd44",
   "metadata": {},
   "source": [
    "## <center>1. Data preparation</center>"
   ]
  },
  {
   "cell_type": "code",
   "execution_count": 3,
   "id": "b471bd11",
   "metadata": {},
   "outputs": [],
   "source": [
    "# loading in the data\n",
    "df = pd.read_csv('prediktiv_data.csv')"
   ]
  },
  {
   "cell_type": "code",
   "execution_count": 4,
   "id": "e58f8ab5",
   "metadata": {},
   "outputs": [],
   "source": [
    "# duplicates removal\n",
    "df.drop_duplicates(inplace=True)"
   ]
  },
  {
   "cell_type": "code",
   "execution_count": 5,
   "id": "4299f12b",
   "metadata": {},
   "outputs": [],
   "source": [
    "# NaNs treatment\n",
    "for col in df.columns:\n",
    "    if (df[col].isnull().sum() == 1):\n",
    "        df.drop(df.loc[pd.isna(df[col])].index, inplace=True)\n",
    "df.replace(np.nan, 'NA', inplace=True)"
   ]
  },
  {
   "cell_type": "code",
   "execution_count": 6,
   "id": "6b08fd02",
   "metadata": {},
   "outputs": [],
   "source": [
    "# data prep\n",
    "df.drop(columns='id', inplace=True)\n",
    "df.drop(df.loc[(df['feature01']>3)].index, inplace=True)\n",
    "df.drop(df.loc[(df['feature06']<4)].index, inplace=True)\n",
    "df.drop(df.loc[(df['feature06']>10)].index, inplace=True)\n",
    "df.drop(columns='feature03', inplace=True)\n",
    "df.drop(df.loc[(df['feature08']<4)].index, inplace=True)\n",
    "df.drop(df.loc[(df['feature08']>9)].index, inplace=True)\n",
    "df.drop(df.loc[(df['feature09']<4)].index, inplace=True)\n",
    "df.drop(df.loc[(df['feature09']>8)].index, inplace=True)\n",
    "df.drop(df.loc[(df['feature10.1']==3)].index, inplace=True)\n",
    "df.drop(df.loc[(df['feature10.1']==0)].index, inplace=True)\n",
    "df['feature10.1'] = df['feature10.1'].apply(lambda x: 0 if x==2 else 1)\n",
    "df.drop(df.loc[(df['feature14']>2)].index, inplace=True)\n",
    "df.drop(df.loc[(df['feature17']==0)].index, inplace=True)\n",
    "df.drop(df.loc[(df['feature17']>4)].index, inplace=True)\n",
    "df.drop(columns='feature18', inplace=True)\n",
    "df.drop(df.loc[(df['feature21']==2)].index, inplace=True)\n",
    "df.drop(df.loc[(df['feature12']=='frog')].index, inplace=True)\n",
    "df.drop(df.loc[(df['feature13']=='green')].index, inplace=True)\n",
    "df.drop(df.loc[(df['feature13']=='yellow')].index, inplace=True)\n",
    "df['feature15'] = df['feature15'].apply(lambda x: 'good' if x=='amazing' else x)\n",
    "df['feature15'] = df['feature15'].apply(lambda x: 'bad' if x=='horrible' else x)\n",
    "df.drop(df.loc[(df['feature16']=='okay')].index, inplace=True)\n",
    "\n",
    "df = df.loc[:, ['target', 'feature01', 'feature04', 'feature07', 'feature08', 'feature09',\n",
    "       'feature10', 'feature14', 'feature17', 'feature22', 'feature23',\n",
    "       'feature11', 'feature12', 'feature13', 'feature15', 'feature16',\n",
    "       'feature10.1', 'feature21']]"
   ]
  },
  {
   "cell_type": "code",
   "execution_count": 7,
   "id": "ea534603",
   "metadata": {},
   "outputs": [],
   "source": [
    "# train/test split\n",
    "y = df['target']\n",
    "X = df.drop('target', axis=1)\n",
    "X_train, X_test, y_train, y_test = train_test_split(X, y, test_size=0.2, random_state=666)"
   ]
  },
  {
   "cell_type": "markdown",
   "id": "be19973c",
   "metadata": {},
   "source": [
    "Note, that all statistical interference has been applied before train/test split. See 'reg1_sklearn.ipynb' for details. Here, train/test split is done at this point only for convienience (data preprocessing operations therefore applies to both, train and test, data)."
   ]
  },
  {
   "cell_type": "markdown",
   "id": "f8890539",
   "metadata": {},
   "source": [
    "## <center>2. Xgboost hypertuning</center>"
   ]
  },
  {
   "cell_type": "markdown",
   "id": "9b11de70",
   "metadata": {},
   "source": [
    "#### Dimentionality reduction might be worth considering, especially that dummy variables will be necessary. PCA will be applied. "
   ]
  },
  {
   "cell_type": "code",
   "execution_count": 8,
   "id": "b663f1af",
   "metadata": {},
   "outputs": [],
   "source": [
    "numeric_features = ['feature01','feature04','feature07','feature08','feature09','feature10','feature14',\n",
    "                    'feature17','feature22','feature23']\n",
    "nominal_features = ['feature11','feature12','feature13','feature15','feature16','feature10.1','feature21']"
   ]
  },
  {
   "cell_type": "markdown",
   "id": "b3f86f40",
   "metadata": {},
   "source": [
    "#### In order to apply PCA, some preprocessing is needed :"
   ]
  },
  {
   "cell_type": "code",
   "execution_count": 10,
   "id": "5eabcd1b",
   "metadata": {},
   "outputs": [],
   "source": [
    "prep = make_column_transformer((StandardScaler(), numeric_features),\n",
    "                               (OneHotEncoder(drop='first'), nominal_features))"
   ]
  },
  {
   "cell_type": "markdown",
   "id": "60a62d90",
   "metadata": {},
   "source": [
    "#### Parameter space is given below:"
   ]
  },
  {
   "cell_type": "code",
   "execution_count": 11,
   "id": "58fd1903",
   "metadata": {},
   "outputs": [],
   "source": [
    "params={\n",
    " \"xgbregressor__learning_rate\"    : [0.05, 0.10, 0.15, 0.20, 0.25, 0.30 ] ,\n",
    " \"xgbregressor__max_depth\"        : [ 3, 4, 5, 6, 8, 10, 12, 15],\n",
    " \"xgbregressor__min_child_weight\" : [ 1, 3, 5, 7 ],\n",
    " \"xgbregressor__gamma\"            : [ 0.0, 0.1, 0.2 , 0.3, 0.4 ],\n",
    " \"xgbregressor__colsample_bytree\" : [ 0.3, 0.4, 0.5 , 0.7 ]\n",
    "}"
   ]
  },
  {
   "cell_type": "markdown",
   "id": "98755b29",
   "metadata": {},
   "source": [
    "#### Pipeline will be, of course, essential here : "
   ]
  },
  {
   "cell_type": "code",
   "execution_count": 12,
   "id": "5b868147",
   "metadata": {},
   "outputs": [],
   "source": [
    "pipe = make_pipeline(prep, PCA(n_components=10, svd_solver='full'), XGBRegressor())\n",
    "# 10 PCA components deliver 90% of variability"
   ]
  },
  {
   "cell_type": "markdown",
   "id": "1a24645e",
   "metadata": {},
   "source": [
    "#### GridSearch setup:"
   ]
  },
  {
   "cell_type": "code",
   "execution_count": 13,
   "id": "22ccccd2",
   "metadata": {},
   "outputs": [],
   "source": [
    "gs = GridSearchCV(pipe, params, scoring='roc_auc', n_jobs=-1, cv=10)"
   ]
  },
  {
   "cell_type": "markdown",
   "id": "e0e7c3bd",
   "metadata": {},
   "source": [
    "#### Hyperparameters tuning:"
   ]
  },
  {
   "cell_type": "code",
   "execution_count": 14,
   "id": "9a0fe606",
   "metadata": {},
   "outputs": [
    {
     "name": "stderr",
     "output_type": "stream",
     "text": [
      "/home/petewojtczak/anaconda3/lib/python3.8/site-packages/sklearn/model_selection/_search.py:953: UserWarning: One or more of the test scores are non-finite: [nan nan nan ... nan nan nan]\n",
      "  warnings.warn(\n"
     ]
    },
    {
     "data": {
      "text/html": [
       "<style>#sk-container-id-1 {color: black;background-color: white;}#sk-container-id-1 pre{padding: 0;}#sk-container-id-1 div.sk-toggleable {background-color: white;}#sk-container-id-1 label.sk-toggleable__label {cursor: pointer;display: block;width: 100%;margin-bottom: 0;padding: 0.3em;box-sizing: border-box;text-align: center;}#sk-container-id-1 label.sk-toggleable__label-arrow:before {content: \"▸\";float: left;margin-right: 0.25em;color: #696969;}#sk-container-id-1 label.sk-toggleable__label-arrow:hover:before {color: black;}#sk-container-id-1 div.sk-estimator:hover label.sk-toggleable__label-arrow:before {color: black;}#sk-container-id-1 div.sk-toggleable__content {max-height: 0;max-width: 0;overflow: hidden;text-align: left;background-color: #f0f8ff;}#sk-container-id-1 div.sk-toggleable__content pre {margin: 0.2em;color: black;border-radius: 0.25em;background-color: #f0f8ff;}#sk-container-id-1 input.sk-toggleable__control:checked~div.sk-toggleable__content {max-height: 200px;max-width: 100%;overflow: auto;}#sk-container-id-1 input.sk-toggleable__control:checked~label.sk-toggleable__label-arrow:before {content: \"▾\";}#sk-container-id-1 div.sk-estimator input.sk-toggleable__control:checked~label.sk-toggleable__label {background-color: #d4ebff;}#sk-container-id-1 div.sk-label input.sk-toggleable__control:checked~label.sk-toggleable__label {background-color: #d4ebff;}#sk-container-id-1 input.sk-hidden--visually {border: 0;clip: rect(1px 1px 1px 1px);clip: rect(1px, 1px, 1px, 1px);height: 1px;margin: -1px;overflow: hidden;padding: 0;position: absolute;width: 1px;}#sk-container-id-1 div.sk-estimator {font-family: monospace;background-color: #f0f8ff;border: 1px dotted black;border-radius: 0.25em;box-sizing: border-box;margin-bottom: 0.5em;}#sk-container-id-1 div.sk-estimator:hover {background-color: #d4ebff;}#sk-container-id-1 div.sk-parallel-item::after {content: \"\";width: 100%;border-bottom: 1px solid gray;flex-grow: 1;}#sk-container-id-1 div.sk-label:hover label.sk-toggleable__label {background-color: #d4ebff;}#sk-container-id-1 div.sk-serial::before {content: \"\";position: absolute;border-left: 1px solid gray;box-sizing: border-box;top: 0;bottom: 0;left: 50%;z-index: 0;}#sk-container-id-1 div.sk-serial {display: flex;flex-direction: column;align-items: center;background-color: white;padding-right: 0.2em;padding-left: 0.2em;position: relative;}#sk-container-id-1 div.sk-item {position: relative;z-index: 1;}#sk-container-id-1 div.sk-parallel {display: flex;align-items: stretch;justify-content: center;background-color: white;position: relative;}#sk-container-id-1 div.sk-item::before, #sk-container-id-1 div.sk-parallel-item::before {content: \"\";position: absolute;border-left: 1px solid gray;box-sizing: border-box;top: 0;bottom: 0;left: 50%;z-index: -1;}#sk-container-id-1 div.sk-parallel-item {display: flex;flex-direction: column;z-index: 1;position: relative;background-color: white;}#sk-container-id-1 div.sk-parallel-item:first-child::after {align-self: flex-end;width: 50%;}#sk-container-id-1 div.sk-parallel-item:last-child::after {align-self: flex-start;width: 50%;}#sk-container-id-1 div.sk-parallel-item:only-child::after {width: 0;}#sk-container-id-1 div.sk-dashed-wrapped {border: 1px dashed gray;margin: 0 0.4em 0.5em 0.4em;box-sizing: border-box;padding-bottom: 0.4em;background-color: white;}#sk-container-id-1 div.sk-label label {font-family: monospace;font-weight: bold;display: inline-block;line-height: 1.2em;}#sk-container-id-1 div.sk-label-container {text-align: center;}#sk-container-id-1 div.sk-container {/* jupyter's `normalize.less` sets `[hidden] { display: none; }` but bootstrap.min.css set `[hidden] { display: none !important; }` so we also need the `!important` here to be able to override the default hidden behavior on the sphinx rendered scikit-learn.org. See: https://github.com/scikit-learn/scikit-learn/issues/21755 */display: inline-block !important;position: relative;}#sk-container-id-1 div.sk-text-repr-fallback {display: none;}</style><div id=\"sk-container-id-1\" class=\"sk-top-container\"><div class=\"sk-text-repr-fallback\"><pre>GridSearchCV(cv=10,\n",
       "             estimator=Pipeline(steps=[(&#x27;columntransformer&#x27;,\n",
       "                                        ColumnTransformer(transformers=[(&#x27;standardscaler&#x27;,\n",
       "                                                                         StandardScaler(),\n",
       "                                                                         [&#x27;feature01&#x27;,\n",
       "                                                                          &#x27;feature04&#x27;,\n",
       "                                                                          &#x27;feature07&#x27;,\n",
       "                                                                          &#x27;feature08&#x27;,\n",
       "                                                                          &#x27;feature09&#x27;,\n",
       "                                                                          &#x27;feature10&#x27;,\n",
       "                                                                          &#x27;feature14&#x27;,\n",
       "                                                                          &#x27;feature17&#x27;,\n",
       "                                                                          &#x27;feature22&#x27;,\n",
       "                                                                          &#x27;feature23&#x27;]),\n",
       "                                                                        (&#x27;onehotencoder&#x27;,\n",
       "                                                                         OneHotEncoder(drop=&#x27;first&#x27;),\n",
       "                                                                         [&#x27;feature11&#x27;,\n",
       "                                                                          &#x27;feature12&#x27;,\n",
       "                                                                          &#x27;feature13&#x27;,\n",
       "                                                                          &#x27;feature15&#x27;,...\n",
       "                                                     predictor=None,\n",
       "                                                     random_state=None,\n",
       "                                                     reg_alpha=None,\n",
       "                                                     reg_lambda=None, ...))]),\n",
       "             n_jobs=-1,\n",
       "             param_grid={&#x27;xgbregressor__colsample_bytree&#x27;: [0.3, 0.4, 0.5, 0.7],\n",
       "                         &#x27;xgbregressor__gamma&#x27;: [0.0, 0.1, 0.2, 0.3, 0.4],\n",
       "                         &#x27;xgbregressor__learning_rate&#x27;: [0.05, 0.1, 0.15, 0.2,\n",
       "                                                         0.25, 0.3],\n",
       "                         &#x27;xgbregressor__max_depth&#x27;: [3, 4, 5, 6, 8, 10, 12, 15],\n",
       "                         &#x27;xgbregressor__min_child_weight&#x27;: [1, 3, 5, 7]},\n",
       "             scoring=&#x27;roc_auc&#x27;)</pre><b>In a Jupyter environment, please rerun this cell to show the HTML representation or trust the notebook. <br />On GitHub, the HTML representation is unable to render, please try loading this page with nbviewer.org.</b></div><div class=\"sk-container\" hidden><div class=\"sk-item sk-dashed-wrapped\"><div class=\"sk-label-container\"><div class=\"sk-label sk-toggleable\"><input class=\"sk-toggleable__control sk-hidden--visually\" id=\"sk-estimator-id-1\" type=\"checkbox\" ><label for=\"sk-estimator-id-1\" class=\"sk-toggleable__label sk-toggleable__label-arrow\">GridSearchCV</label><div class=\"sk-toggleable__content\"><pre>GridSearchCV(cv=10,\n",
       "             estimator=Pipeline(steps=[(&#x27;columntransformer&#x27;,\n",
       "                                        ColumnTransformer(transformers=[(&#x27;standardscaler&#x27;,\n",
       "                                                                         StandardScaler(),\n",
       "                                                                         [&#x27;feature01&#x27;,\n",
       "                                                                          &#x27;feature04&#x27;,\n",
       "                                                                          &#x27;feature07&#x27;,\n",
       "                                                                          &#x27;feature08&#x27;,\n",
       "                                                                          &#x27;feature09&#x27;,\n",
       "                                                                          &#x27;feature10&#x27;,\n",
       "                                                                          &#x27;feature14&#x27;,\n",
       "                                                                          &#x27;feature17&#x27;,\n",
       "                                                                          &#x27;feature22&#x27;,\n",
       "                                                                          &#x27;feature23&#x27;]),\n",
       "                                                                        (&#x27;onehotencoder&#x27;,\n",
       "                                                                         OneHotEncoder(drop=&#x27;first&#x27;),\n",
       "                                                                         [&#x27;feature11&#x27;,\n",
       "                                                                          &#x27;feature12&#x27;,\n",
       "                                                                          &#x27;feature13&#x27;,\n",
       "                                                                          &#x27;feature15&#x27;,...\n",
       "                                                     predictor=None,\n",
       "                                                     random_state=None,\n",
       "                                                     reg_alpha=None,\n",
       "                                                     reg_lambda=None, ...))]),\n",
       "             n_jobs=-1,\n",
       "             param_grid={&#x27;xgbregressor__colsample_bytree&#x27;: [0.3, 0.4, 0.5, 0.7],\n",
       "                         &#x27;xgbregressor__gamma&#x27;: [0.0, 0.1, 0.2, 0.3, 0.4],\n",
       "                         &#x27;xgbregressor__learning_rate&#x27;: [0.05, 0.1, 0.15, 0.2,\n",
       "                                                         0.25, 0.3],\n",
       "                         &#x27;xgbregressor__max_depth&#x27;: [3, 4, 5, 6, 8, 10, 12, 15],\n",
       "                         &#x27;xgbregressor__min_child_weight&#x27;: [1, 3, 5, 7]},\n",
       "             scoring=&#x27;roc_auc&#x27;)</pre></div></div></div><div class=\"sk-parallel\"><div class=\"sk-parallel-item\"><div class=\"sk-item\"><div class=\"sk-label-container\"><div class=\"sk-label sk-toggleable\"><input class=\"sk-toggleable__control sk-hidden--visually\" id=\"sk-estimator-id-2\" type=\"checkbox\" ><label for=\"sk-estimator-id-2\" class=\"sk-toggleable__label sk-toggleable__label-arrow\">estimator: Pipeline</label><div class=\"sk-toggleable__content\"><pre>Pipeline(steps=[(&#x27;columntransformer&#x27;,\n",
       "                 ColumnTransformer(transformers=[(&#x27;standardscaler&#x27;,\n",
       "                                                  StandardScaler(),\n",
       "                                                  [&#x27;feature01&#x27;, &#x27;feature04&#x27;,\n",
       "                                                   &#x27;feature07&#x27;, &#x27;feature08&#x27;,\n",
       "                                                   &#x27;feature09&#x27;, &#x27;feature10&#x27;,\n",
       "                                                   &#x27;feature14&#x27;, &#x27;feature17&#x27;,\n",
       "                                                   &#x27;feature22&#x27;, &#x27;feature23&#x27;]),\n",
       "                                                 (&#x27;onehotencoder&#x27;,\n",
       "                                                  OneHotEncoder(drop=&#x27;first&#x27;),\n",
       "                                                  [&#x27;feature11&#x27;, &#x27;feature12&#x27;,\n",
       "                                                   &#x27;feature13&#x27;, &#x27;feature15&#x27;,\n",
       "                                                   &#x27;feature16&#x27;, &#x27;feature10.1&#x27;,\n",
       "                                                   &#x27;fe...\n",
       "                              gamma=None, gpu_id=None, grow_policy=None,\n",
       "                              importance_type=None,\n",
       "                              interaction_constraints=None, learning_rate=None,\n",
       "                              max_bin=None, max_cat_to_onehot=None,\n",
       "                              max_delta_step=None, max_depth=None,\n",
       "                              max_leaves=None, min_child_weight=None,\n",
       "                              missing=nan, monotone_constraints=None,\n",
       "                              n_estimators=100, n_jobs=None,\n",
       "                              num_parallel_tree=None, predictor=None,\n",
       "                              random_state=None, reg_alpha=None,\n",
       "                              reg_lambda=None, ...))])</pre></div></div></div><div class=\"sk-serial\"><div class=\"sk-item\"><div class=\"sk-serial\"><div class=\"sk-item sk-dashed-wrapped\"><div class=\"sk-label-container\"><div class=\"sk-label sk-toggleable\"><input class=\"sk-toggleable__control sk-hidden--visually\" id=\"sk-estimator-id-3\" type=\"checkbox\" ><label for=\"sk-estimator-id-3\" class=\"sk-toggleable__label sk-toggleable__label-arrow\">columntransformer: ColumnTransformer</label><div class=\"sk-toggleable__content\"><pre>ColumnTransformer(transformers=[(&#x27;standardscaler&#x27;, StandardScaler(),\n",
       "                                 [&#x27;feature01&#x27;, &#x27;feature04&#x27;, &#x27;feature07&#x27;,\n",
       "                                  &#x27;feature08&#x27;, &#x27;feature09&#x27;, &#x27;feature10&#x27;,\n",
       "                                  &#x27;feature14&#x27;, &#x27;feature17&#x27;, &#x27;feature22&#x27;,\n",
       "                                  &#x27;feature23&#x27;]),\n",
       "                                (&#x27;onehotencoder&#x27;, OneHotEncoder(drop=&#x27;first&#x27;),\n",
       "                                 [&#x27;feature11&#x27;, &#x27;feature12&#x27;, &#x27;feature13&#x27;,\n",
       "                                  &#x27;feature15&#x27;, &#x27;feature16&#x27;, &#x27;feature10.1&#x27;,\n",
       "                                  &#x27;feature21&#x27;])])</pre></div></div></div><div class=\"sk-parallel\"><div class=\"sk-parallel-item\"><div class=\"sk-item\"><div class=\"sk-label-container\"><div class=\"sk-label sk-toggleable\"><input class=\"sk-toggleable__control sk-hidden--visually\" id=\"sk-estimator-id-4\" type=\"checkbox\" ><label for=\"sk-estimator-id-4\" class=\"sk-toggleable__label sk-toggleable__label-arrow\">standardscaler</label><div class=\"sk-toggleable__content\"><pre>[&#x27;feature01&#x27;, &#x27;feature04&#x27;, &#x27;feature07&#x27;, &#x27;feature08&#x27;, &#x27;feature09&#x27;, &#x27;feature10&#x27;, &#x27;feature14&#x27;, &#x27;feature17&#x27;, &#x27;feature22&#x27;, &#x27;feature23&#x27;]</pre></div></div></div><div class=\"sk-serial\"><div class=\"sk-item\"><div class=\"sk-estimator sk-toggleable\"><input class=\"sk-toggleable__control sk-hidden--visually\" id=\"sk-estimator-id-5\" type=\"checkbox\" ><label for=\"sk-estimator-id-5\" class=\"sk-toggleable__label sk-toggleable__label-arrow\">StandardScaler</label><div class=\"sk-toggleable__content\"><pre>StandardScaler()</pre></div></div></div></div></div></div><div class=\"sk-parallel-item\"><div class=\"sk-item\"><div class=\"sk-label-container\"><div class=\"sk-label sk-toggleable\"><input class=\"sk-toggleable__control sk-hidden--visually\" id=\"sk-estimator-id-6\" type=\"checkbox\" ><label for=\"sk-estimator-id-6\" class=\"sk-toggleable__label sk-toggleable__label-arrow\">onehotencoder</label><div class=\"sk-toggleable__content\"><pre>[&#x27;feature11&#x27;, &#x27;feature12&#x27;, &#x27;feature13&#x27;, &#x27;feature15&#x27;, &#x27;feature16&#x27;, &#x27;feature10.1&#x27;, &#x27;feature21&#x27;]</pre></div></div></div><div class=\"sk-serial\"><div class=\"sk-item\"><div class=\"sk-estimator sk-toggleable\"><input class=\"sk-toggleable__control sk-hidden--visually\" id=\"sk-estimator-id-7\" type=\"checkbox\" ><label for=\"sk-estimator-id-7\" class=\"sk-toggleable__label sk-toggleable__label-arrow\">OneHotEncoder</label><div class=\"sk-toggleable__content\"><pre>OneHotEncoder(drop=&#x27;first&#x27;)</pre></div></div></div></div></div></div></div></div><div class=\"sk-item\"><div class=\"sk-estimator sk-toggleable\"><input class=\"sk-toggleable__control sk-hidden--visually\" id=\"sk-estimator-id-8\" type=\"checkbox\" ><label for=\"sk-estimator-id-8\" class=\"sk-toggleable__label sk-toggleable__label-arrow\">PCA</label><div class=\"sk-toggleable__content\"><pre>PCA(n_components=10, svd_solver=&#x27;full&#x27;)</pre></div></div></div><div class=\"sk-item\"><div class=\"sk-estimator sk-toggleable\"><input class=\"sk-toggleable__control sk-hidden--visually\" id=\"sk-estimator-id-9\" type=\"checkbox\" ><label for=\"sk-estimator-id-9\" class=\"sk-toggleable__label sk-toggleable__label-arrow\">XGBRegressor</label><div class=\"sk-toggleable__content\"><pre>XGBRegressor(base_score=None, booster=None, callbacks=None,\n",
       "             colsample_bylevel=None, colsample_bynode=None,\n",
       "             colsample_bytree=None, early_stopping_rounds=None,\n",
       "             enable_categorical=False, eval_metric=None, gamma=None,\n",
       "             gpu_id=None, grow_policy=None, importance_type=None,\n",
       "             interaction_constraints=None, learning_rate=None, max_bin=None,\n",
       "             max_cat_to_onehot=None, max_delta_step=None, max_depth=None,\n",
       "             max_leaves=None, min_child_weight=None, missing=nan,\n",
       "             monotone_constraints=None, n_estimators=100, n_jobs=None,\n",
       "             num_parallel_tree=None, predictor=None, random_state=None,\n",
       "             reg_alpha=None, reg_lambda=None, ...)</pre></div></div></div></div></div></div></div></div></div></div></div></div>"
      ],
      "text/plain": [
       "GridSearchCV(cv=10,\n",
       "             estimator=Pipeline(steps=[('columntransformer',\n",
       "                                        ColumnTransformer(transformers=[('standardscaler',\n",
       "                                                                         StandardScaler(),\n",
       "                                                                         ['feature01',\n",
       "                                                                          'feature04',\n",
       "                                                                          'feature07',\n",
       "                                                                          'feature08',\n",
       "                                                                          'feature09',\n",
       "                                                                          'feature10',\n",
       "                                                                          'feature14',\n",
       "                                                                          'feature17',\n",
       "                                                                          'feature22',\n",
       "                                                                          'feature23']),\n",
       "                                                                        ('onehotencoder',\n",
       "                                                                         OneHotEncoder(drop='first'),\n",
       "                                                                         ['feature11',\n",
       "                                                                          'feature12',\n",
       "                                                                          'feature13',\n",
       "                                                                          'feature15',...\n",
       "                                                     predictor=None,\n",
       "                                                     random_state=None,\n",
       "                                                     reg_alpha=None,\n",
       "                                                     reg_lambda=None, ...))]),\n",
       "             n_jobs=-1,\n",
       "             param_grid={'xgbregressor__colsample_bytree': [0.3, 0.4, 0.5, 0.7],\n",
       "                         'xgbregressor__gamma': [0.0, 0.1, 0.2, 0.3, 0.4],\n",
       "                         'xgbregressor__learning_rate': [0.05, 0.1, 0.15, 0.2,\n",
       "                                                         0.25, 0.3],\n",
       "                         'xgbregressor__max_depth': [3, 4, 5, 6, 8, 10, 12, 15],\n",
       "                         'xgbregressor__min_child_weight': [1, 3, 5, 7]},\n",
       "             scoring='roc_auc')"
      ]
     },
     "execution_count": 14,
     "metadata": {},
     "output_type": "execute_result"
    }
   ],
   "source": [
    "gs.fit(X_train,y_train)"
   ]
  },
  {
   "cell_type": "code",
   "execution_count": 15,
   "id": "c3061def",
   "metadata": {},
   "outputs": [
    {
     "data": {
      "text/plain": [
       "{'xgbregressor__colsample_bytree': 0.3,\n",
       " 'xgbregressor__gamma': 0.0,\n",
       " 'xgbregressor__learning_rate': 0.05,\n",
       " 'xgbregressor__max_depth': 3,\n",
       " 'xgbregressor__min_child_weight': 1}"
      ]
     },
     "execution_count": 15,
     "metadata": {},
     "output_type": "execute_result"
    }
   ],
   "source": [
    "gs.best_params_"
   ]
  },
  {
   "cell_type": "markdown",
   "id": "9c2ec914",
   "metadata": {},
   "source": [
    "## <center>3. Predictions and evaluation</center>"
   ]
  },
  {
   "cell_type": "code",
   "execution_count": 21,
   "id": "fb45781e",
   "metadata": {},
   "outputs": [],
   "source": [
    "y_pred = gs.predict(X_test)"
   ]
  },
  {
   "cell_type": "code",
   "execution_count": 27,
   "id": "af294606",
   "metadata": {},
   "outputs": [],
   "source": [
    "# Some minor formatting\n",
    "y_test = y_test.reset_index(drop=True)\n",
    "y_pred = pd.Series(y_pred)"
   ]
  },
  {
   "cell_type": "markdown",
   "id": "9bbcd527",
   "metadata": {},
   "source": [
    "#### Well, this time xgboost did not beat its sklearn competitors."
   ]
  },
  {
   "cell_type": "code",
   "execution_count": 32,
   "id": "41f9cb7a",
   "metadata": {},
   "outputs": [
    {
     "name": "stdout",
     "output_type": "stream",
     "text": [
      "xgboost determination coeff: 0.83197\n"
     ]
    }
   ],
   "source": [
    "print('xgboost determination coeff: {}'.format(round(r2_score(y_test, y_pred), 5)))"
   ]
  },
  {
   "cell_type": "code",
   "execution_count": 33,
   "id": "12a2699a",
   "metadata": {},
   "outputs": [
    {
     "name": "stdout",
     "output_type": "stream",
     "text": [
      "xgboost MAE: 20243.40406\n"
     ]
    }
   ],
   "source": [
    "print('xgboost MAE: {}'.format(round(mean_absolute_error(y_test, y_pred), 5)))"
   ]
  },
  {
   "cell_type": "code",
   "execution_count": 34,
   "id": "9527626f",
   "metadata": {},
   "outputs": [
    {
     "name": "stdout",
     "output_type": "stream",
     "text": [
      "GradientBoostingRegressor determination coeff: 0.87513\n"
     ]
    }
   ],
   "source": [
    "print('GradientBoostingRegressor determination coeff: 0.87513')"
   ]
  },
  {
   "cell_type": "code",
   "execution_count": 35,
   "id": "a7282243",
   "metadata": {},
   "outputs": [
    {
     "name": "stdout",
     "output_type": "stream",
     "text": [
      "GradientBoostingRegressor MAE: 17386.16431\n"
     ]
    }
   ],
   "source": [
    "print('GradientBoostingRegressor MAE: 17386.16431')"
   ]
  }
 ],
 "metadata": {
  "kernelspec": {
   "display_name": "Python 3",
   "language": "python",
   "name": "python3"
  },
  "language_info": {
   "codemirror_mode": {
    "name": "ipython",
    "version": 3
   },
   "file_extension": ".py",
   "mimetype": "text/x-python",
   "name": "python",
   "nbconvert_exporter": "python",
   "pygments_lexer": "ipython3",
   "version": "3.8.8"
  }
 },
 "nbformat": 4,
 "nbformat_minor": 5
}
